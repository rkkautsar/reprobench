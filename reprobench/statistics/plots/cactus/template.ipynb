{
  "cells": [
    {
      "cell_type": "code",
      "source": [
        "db_path = \"benchmark.db\"\n",
        "measure = \"cpu_time\""
      ],
      "outputs": [],
      "execution_count": null,
      "metadata": {
        "collapsed": false,
        "outputHidden": false,
        "inputHidden": false,
        "tags": [
          "parameters"
        ]
      }
    },
    {
      "cell_type": "code",
      "source": [
        "from reprobench.utils import init_db\n",
        "init_db(db_path)"
      ],
      "outputs": [],
      "execution_count": null,
      "metadata": {
        "collapsed": false,
        "outputHidden": false,
        "inputHidden": false
      }
    },
    {
      "cell_type": "code",
      "source": [
        "import itertools\n",
        "\n",
        "import pandas as pd\n",
        "import seaborn as sns\n",
        "\n",
        "from reprobench.core.db import Run, Tool, ParameterGroup\n",
        "from reprobench.executors.db import RunStatistic\n",
        "\n\n",
        "def cactus_plot(measure, **kwargs):\n",
        "    cactus_df = pd.DataFrame()\n",
        "    \n",
        "    for group in ParameterGroup.select():\n",
        "        tool_name = f\"{group.tool_id}_{group.name}\"\n",
        "        measure_field = getattr(RunStatistic, measure)\n",
        "        values_query = (\n",
        "            RunStatistic\n",
        "            .select(measure_field)\n",
        "            .join(Run)\n",
        "            .where(Run.tool_id == group.tool_id)\n",
        "            .where(Run.parameter_group_id == group.id)\n",
        "            .order_by(measure_field)\n",
        "        )\n",
        "        series = pd.Series(\n",
        "            data=[*itertools.chain.from_iterable(values_query.tuples())],\n",
        "            name=tool_name,\n",
        "        ).sort_values()\n",
        "        cactus_df = cactus_df.append(series, sort=False)\n",
        "    \n",
        "    cactus_df = cactus_df.transpose().reset_index(drop=True)\n",
        "    \n",
        "    return sns.scatterplot(data=cactus_df, **kwargs)"
      ],
      "outputs": [],
      "execution_count": null,
      "metadata": {
        "collapsed": false,
        "outputHidden": false,
        "inputHidden": false
      }
    },
    {
      "cell_type": "code",
      "source": [
        "import matplotlib.pyplot as plt\n",
        "import matplotlib.ticker as ticker\n",
        "\n",
        "fig, ax = plt.subplots(figsize=(8, 6))\n",
        "plt.xticks()\n",
        "plt.xlabel(\"Instance solved\")\n",
        "plt.ylabel(\"Time (s)\")\n",
        "cactus_plot(measure, ax=ax)\n",
        "plt.show()"
      ],
      "outputs": [],
      "execution_count": null,
      "metadata": {
        "collapsed": false,
        "outputHidden": false,
        "inputHidden": false
      }
    }
  ],
  "metadata": {
    "kernel_info": {
      "name": "python3"
    },
    "language_info": {
      "name": "python",
      "version": "3.7.2",
      "mimetype": "text/x-python",
      "codemirror_mode": {
        "name": "ipython",
        "version": 3
      },
      "pygments_lexer": "ipython3",
      "nbconvert_exporter": "python",
      "file_extension": ".py"
    },
    "kernelspec": {
      "name": "python3",
      "language": "python",
      "display_name": "Python 3"
    },
    "nteract": {
      "version": "0.12.3"
    }
  },
  "nbformat": 4,
  "nbformat_minor": 4
}